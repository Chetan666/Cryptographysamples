{
 "cells": [
  {
   "cell_type": "code",
   "execution_count": 3,
   "id": "300d3351",
   "metadata": {},
   "outputs": [
    {
     "name": "stdout",
     "output_type": "stream",
     "text": [
      "Plain Text : MynameisBalazsHolczerIamfromBudapestHungaryIamqualifiedasaphysicistAtthemomentIamworkingasasimulationengineeratamultinationalcompanyIhavebeeninterestedinalgorithmsanddatastructuresanditsimplementationsespeciallyinJavasinceuniversityLateronIgotacquaintedwithmachinelearningtechniquesartificialintelligencenumericalmethodsandrecipessuchassolvingdifferentialequationslinear algebrainterpolationandextrapolationThesethingsmayprovetobeveryveryimportantinseveralfieldssoftwareengineeringresearchanddevelopmentorinvestmentbankingIhaveaspecialaddictiontoquantitativemodelssuchastheBlackScholesmodelortheMertonmodel\n",
      "Shift pattern : 4\n",
      "Cipher: QcreqimwFepedwLspgdivMeqjvsqFyhetiwxLyrkevcMequyepmjmihewetlcwmgmwxExxliqsqirxMeqasvomrkewewmqypexmsrirkmriivexeqypxmrexmsrepgsqtercMlezifiirmrxiviwxihmrepksvmxlqwerhhexewxvygxyviwerhmxwmqtpiqirxexmsrwiwtigmeppcmrNezewmrgiyrmzivwmxcPexivsrMksxeguyemrxihamxlqeglmripievrmrkxiglrmuyiwevxmjmgmepmrxippmkirgiryqivmgepqixlshwerhvigmtiwwyglewwspzmrkhmjjivirxmepiuyexmsrwpmrievrepkifvemrxivtspexmsrerhibxvetspexmsrXliwixlmrkwqectvszixsfizivczivcmqtsvxerxmrwizivepjmiphwwsjxaeviirkmriivmrkviwievglerhhizipstqirxsvmrziwxqirxferomrkMleziewtigmepehhmgxmsrxsuyerxmxexmziqshipwwyglewxliFpegoWglspiwqshipsvxliQivxsrqship\n"
     ]
    }
   ],
   "source": [
    "def encrypt(text,s):\n",
    "    result = \"\"\n",
    "    # transverse the plain text\n",
    "    for i in range(len(text)):\n",
    "        char = text[i]\n",
    "      # Encrypt uppercase characters in plain text   \n",
    "        if (char.isupper()):\n",
    "            result += chr((ord(char) + s-65) % 26 + 65) \n",
    "      #isupper() method returns True if all the characters are in upper case, otherwise False.\n",
    "      #chr()method converts an integer to its unicode character and returns it. Unicodes have decimal codes\n",
    "      #ord()function returns an integer representing the Unicode character.\n",
    "      # Encrypt lowercase characters in plain text\n",
    "        else:\n",
    "            result += chr((ord(char) + s - 97) % 26 + 97)\n",
    "    return result\n",
    "    \n",
    "#check the above function\n",
    "text = 'MynameisBalazsHolczerIamfromBudapestHungaryIamqualifiedasaphysicistAtthemomentIamworkingasasimulationengineeratamultinationalcompanyIhavebeeninterestedinalgorithmsanddatastructuresanditsimplementationsespeciallyinJavasinceuniversityLateronIgotacquaintedwithmachinelearningtechniquesartificialintelligencenumericalmethodsandrecipessuchassolvingdifferentialequationslinear algebrainterpolationandextrapolationThesethingsmayprovetobeveryveryimportantinseveralfieldssoftwareengineeringresearchanddevelopmentorinvestmentbankingIhaveaspecialaddictiontoquantitativemodelssuchastheBlackScholesmodelortheMertonmodel' #space is taken as r and ? as w\n",
    "s = 4\n",
    "\n",
    "print(\"Plain Text : \" + text)\n",
    "print(\"Shift pattern : \" + str(s))\n",
    "print(\"Cipher: \" + encrypt(text,s))"
   ]
  },
  {
   "cell_type": "code",
   "execution_count": null,
   "id": "62559c4a",
   "metadata": {},
   "outputs": [],
   "source": []
  }
 ],
 "metadata": {
  "kernelspec": {
   "display_name": "Python 3 (ipykernel)",
   "language": "python",
   "name": "python3"
  },
  "language_info": {
   "codemirror_mode": {
    "name": "ipython",
    "version": 3
   },
   "file_extension": ".py",
   "mimetype": "text/x-python",
   "name": "python",
   "nbconvert_exporter": "python",
   "pygments_lexer": "ipython3",
   "version": "3.10.5"
  }
 },
 "nbformat": 4,
 "nbformat_minor": 5
}
