{
 "cells": [
  {
   "cell_type": "code",
   "execution_count": 24,
   "id": "fdcf6862",
   "metadata": {},
   "outputs": [
    {
     "name": "stdout",
     "output_type": "stream",
     "text": [
      "Plain Text : Hello How Are You?\n",
      "Shift pattern : 4\n",
      "Cipher: LippsrLsarEvirCsyw\n"
     ]
    }
   ],
   "source": [
    "def encrypt(text,s):\n",
    "    result = \"\"\n",
    "    # transverse the plain text\n",
    "    for i in range(len(text)):\n",
    "        char = text[i]\n",
    "      # Encrypt uppercase characters in plain text   \n",
    "        if (char.isupper()):\n",
    "            result += chr((ord(char) + s-65) % 26 + 65) \n",
    "      #isupper() method returns True if all the characters are in upper case, otherwise False.\n",
    "      #chr()method converts an integer to its unicode character and returns it. Unicodes have decimal codes\n",
    "      #ord()function returns an integer representing the Unicode character.\n",
    "      # Encrypt lowercase characters in plain text\n",
    "        else:\n",
    "            result += chr((ord(char) + s - 97) % 26 + 97)\n",
    "    return result\n",
    "    \n",
    "#check the above function\n",
    "text = \"Hello How Are You?\" #space is taken as r and ? as w\n",
    "s = 4\n",
    "\n",
    "print(\"Plain Text : \" + text)\n",
    "print(\"Shift pattern : \" + str(s))\n",
    "#message = encrypt(text,s)\n",
    "print(\"Cipher: \" + encrypt(text,s))"
   ]
  },
  {
   "cell_type": "code",
   "execution_count": 25,
   "id": "dcc1cad8",
   "metadata": {},
   "outputs": [
    {
     "name": "stdout",
     "output_type": "stream",
     "text": [
      "Hacking key #0: LIPPSrLSArEVIrCSy\n",
      "Hacking key #1: KHOORqKRZqDUHqBRx\n",
      "Hacking key #2: JGNNQpJQYpCTGpAQw\n",
      "Hacking key #3: IFMMPoIPXoBSFoZPv\n",
      "Hacking key #4: HELLOnHOWnAREnYOu\n",
      "Hacking key #5: GDKKNmGNVmZQDmXNt\n",
      "Hacking key #6: FCJJMlFMUlYPClWMs\n",
      "Hacking key #7: EBIILkELTkXOBkVLr\n",
      "Hacking key #8: DAHHKjDKSjWNAjUKq\n",
      "Hacking key #9: CZGGJiCJRiVMZiTJp\n",
      "Hacking key #10: BYFFIhBIQhULYhSIo\n",
      "Hacking key #11: AXEEHgAHPgTKXgRHn\n",
      "Hacking key #12: ZWDDGfZGOfSJWfQGm\n",
      "Hacking key #13: YVCCFeYFNeRIVePFl\n",
      "Hacking key #14: XUBBEdXEMdQHUdOEk\n",
      "Hacking key #15: WTAADcWDLcPGTcNDj\n",
      "Hacking key #16: VSZZCbVCKbOFSbMCi\n",
      "Hacking key #17: URYYBaUBJaNERaLBh\n",
      "Hacking key #18: TQXXA?TAI?MDQ?KAg\n",
      "Hacking key #19: SPWWZzSZHzLCPzJZf\n",
      "Hacking key #20: ROVVYyRYGyKBOyIYe\n",
      "Hacking key #21: QNUUXxQXFxJANxHXd\n",
      "Hacking key #22: PMTTWwPWEwIZMwGWc\n",
      "Hacking key #23: OLSSVvOVDvHYLvFVb\n",
      "Hacking key #24: NKRRUuNUCuGXKuEUa\n",
      "Hacking key #25: MJQQTtMTBtFWJtDT?\n"
     ]
    }
   ],
   "source": [
    "#Brute Force Hacking\n",
    "message = 'LIPPSrLSArEVIrCSy' #Replace the Cipher from the previous cell result\n",
    "UPPLETTERS = 'ABCDEFGHIJKLMNOPQRSTUVWXYZ'\n",
    "LOWLETTERS = 'abcdefghijklmnopqrstuvwxyz'\n",
    "\n",
    "for key in range(len(LETTERS)):\n",
    "    translated = ''\n",
    "    for symbol in message:\n",
    "        if symbol in UPPLETTERS:\n",
    "            num = UPPLETTERS.find(symbol)\n",
    "            num = num - key\n",
    "            if num < 0:\n",
    "                num = num + len(UPPLETTERS)\n",
    "            translated = translated + UPPLETTERS[num]\n",
    "        elif symbol in LOWLETTERS:\n",
    "            num = LOWLETTERS.find(symbol)\n",
    "            num = num - key\n",
    "            if num < 0:\n",
    "                num = num + len(LOWLETTERS)\n",
    "            translated = translated + LOWLETTERS[num]\n",
    "        else:\n",
    "            translated = translated + symbol\n",
    "    print('Hacking key #%s: %s' % (key, translated))"
   ]
  },
  {
   "cell_type": "code",
   "execution_count": null,
   "id": "9792c568",
   "metadata": {},
   "outputs": [],
   "source": []
  }
 ],
 "metadata": {
  "kernelspec": {
   "display_name": "Python 3 (ipykernel)",
   "language": "python",
   "name": "python3"
  },
  "language_info": {
   "codemirror_mode": {
    "name": "ipython",
    "version": 3
   },
   "file_extension": ".py",
   "mimetype": "text/x-python",
   "name": "python",
   "nbconvert_exporter": "python",
   "pygments_lexer": "ipython3",
   "version": "3.10.5"
  }
 },
 "nbformat": 4,
 "nbformat_minor": 5
}
