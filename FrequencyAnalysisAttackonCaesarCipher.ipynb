{
 "cells": [
  {
   "cell_type": "code",
   "execution_count": 11,
   "id": "3b38cbdb",
   "metadata": {},
   "outputs": [
    {
     "name": "stdout",
     "output_type": "stream",
     "text": [
      "[('I', 72), ('E', 64), ('M', 61), ('R', 54), ('X', 50), ('W', 37), ('S', 32), ('V', 32), ('P', 31), ('Q', 25), ('G', 20), ('H', 19), ('L', 19), ('Y', 15), ('K', 13), ('T', 12), ('Z', 12), ('C', 9), ('F', 7), ('J', 7), ('U', 5), ('A', 3), ('O', 3), ('D', 2), ('B', 1), ('N', 1), (' ', 0)]\n",
      "Possible key value: 4\n"
     ]
    },
    {
     "ename": "AttributeError",
     "evalue": "'list' object has no attribute 'keys'",
     "output_type": "error",
     "traceback": [
      "\u001b[1;31m---------------------------------------------------------------------------\u001b[0m",
      "\u001b[1;31mAttributeError\u001b[0m                            Traceback (most recent call last)",
      "Input \u001b[1;32mIn [11]\u001b[0m, in \u001b[0;36m<cell line: 43>\u001b[1;34m()\u001b[0m\n\u001b[0;32m     43\u001b[0m \u001b[38;5;28;01mif\u001b[39;00m \u001b[38;5;18m__name__\u001b[39m\u001b[38;5;241m==\u001b[39m\u001b[38;5;124m'\u001b[39m\u001b[38;5;124m__main__\u001b[39m\u001b[38;5;124m'\u001b[39m:  \n\u001b[0;32m     44\u001b[0m     \u001b[38;5;66;03m#key = 4\u001b[39;00m\n\u001b[0;32m     45\u001b[0m     cipher_text\u001b[38;5;241m=\u001b[39m \u001b[38;5;124m'\u001b[39m\u001b[38;5;124mQcreqimwFepedwLspgdivMeqjvsqFyhetiwxLyrkevcMequyepmjmihewetlcwmgmwxExxliqsqirxMeqasvomrkewewmqypexmsrirkmriivexeqypxmrexmsrepgsqtercMlezifiirmrxiviwxihmrepksvmxlqwerhhexewxvygxyviwerhmxwmqtpiqirxexmsrwiwtigmeppcmrNezewmrgiyrmzivwmxcPexivsrMksxeguyemrxihamxlqeglmripievrmrkxiglrmuyiwevxmjmgmepmrxippmkirgiryqivmgepqixlshwerhvigmtiwwyglewwspzmrkhmjjivirxmepiuyexmsrwpmrievrepkifvemrxivtspexmsrerhibxvetspexmsrXliwixlmrkwqectvszixsfizivczivcmqtsvxerxmrwizivepjmiphwwsjxaeviirkmriivmrkviwievglerhhizipstqirxsvmrziwxqirxferomrkMleziewtigmepehhmgxmsrxsuyerxmxexmziqshipwwyglewxliFpegoWglspiwqshipsvxliQivxsrqship\u001b[39m\u001b[38;5;124m'\u001b[39m\n\u001b[1;32m---> 46\u001b[0m     \u001b[43mcaesar_crack\u001b[49m\u001b[43m(\u001b[49m\u001b[43mcipher_text\u001b[49m\u001b[43m)\u001b[49m\n",
      "Input \u001b[1;32mIn [11]\u001b[0m, in \u001b[0;36mcaesar_crack\u001b[1;34m(text)\u001b[0m\n\u001b[0;32m     36\u001b[0m \u001b[38;5;66;03m#Most frequent in Ciphertext-Most frequent in English alphabets i.e. E\u001b[39;00m\n\u001b[0;32m     37\u001b[0m \u001b[38;5;28mprint\u001b[39m(\u001b[38;5;124m\"\u001b[39m\u001b[38;5;124mPossible key value: \u001b[39m\u001b[38;5;132;01m%s\u001b[39;00m\u001b[38;5;124m\"\u001b[39m \u001b[38;5;241m%\u001b[39m (LETTERS\u001b[38;5;241m.\u001b[39mfind(freq[\u001b[38;5;241m0\u001b[39m][\u001b[38;5;241m0\u001b[39m])\u001b[38;5;241m-\u001b[39mLETTERS\u001b[38;5;241m.\u001b[39mfind(\u001b[38;5;124m'\u001b[39m\u001b[38;5;124mE\u001b[39m\u001b[38;5;124m'\u001b[39m)))\n\u001b[1;32m---> 38\u001b[0m \u001b[43mplot_distribution\u001b[49m\u001b[43m(\u001b[49m\u001b[43mfreq\u001b[49m\u001b[43m)\u001b[49m\n",
      "Input \u001b[1;32mIn [11]\u001b[0m, in \u001b[0;36mplot_distribution\u001b[1;34m(frequencies)\u001b[0m\n\u001b[0;32m     28\u001b[0m \u001b[38;5;28;01mdef\u001b[39;00m \u001b[38;5;21mplot_distribution\u001b[39m(frequencies):\n\u001b[1;32m---> 29\u001b[0m     plt\u001b[38;5;241m.\u001b[39mbar(\u001b[43mfrequencies\u001b[49m\u001b[38;5;241;43m.\u001b[39;49m\u001b[43mkeys\u001b[49m(), frequencies\u001b[38;5;241m.\u001b[39mvalues())\n\u001b[0;32m     30\u001b[0m     plt\u001b[38;5;241m.\u001b[39mshow()\n",
      "\u001b[1;31mAttributeError\u001b[0m: 'list' object has no attribute 'keys'"
     ]
    }
   ],
   "source": [
    "import matplotlib.pylab as plt\n",
    "# White space is the most frequent 'letter' in english alphabet but it #is not used break key so avoid it\n",
    "\n",
    "LETTERS = ' ABCDEFGHIJKLMNOPQRSTUVWXYZ'\n",
    "\n",
    "#Count the occurences of the given characters\n",
    "#text is plaintext\n",
    "\n",
    "def frequency_analysis(text):\n",
    "# the text we analyse\n",
    "\n",
    "   text=text.upper()\n",
    "# Use dictionary to store letter-frequency pair\n",
    "\n",
    "   letter_frequencies = {}\n",
    "   \n",
    "   for letter in LETTERS:\n",
    "        letter_frequencies[letter]=0 #In begining frequency is zero\n",
    "   \n",
    "# Consider the text we want to analyse find frequencies in the original plaintext\n",
    "\n",
    "   for letter in text:\n",
    "        if letter in LETTERS:\n",
    "            letter_frequencies[letter] +=1\n",
    "           \n",
    "   return letter_frequencies\n",
    "   \n",
    "def plot_distribution(frequencies):\n",
    "    plt.bar(frequencies.keys(), frequencies.values())\n",
    "    plt.show()\n",
    "    \n",
    "def caesar_crack(text):\n",
    "    freq = frequency_analysis(cipher_text)\n",
    "    freq=sorted(freq.items(), key=lambda x: x[1], reverse=True) #sort dictionary based on the frequency value\n",
    "    print(freq)\n",
    "    #Most frequent in Ciphertext-Most frequent in English alphabets i.e. E\n",
    "    print(\"Possible key value: %s\" % (LETTERS.find(freq[0][0])-LETTERS.find('E')))\n",
    "    plot_distribution(freq)\n",
    "\n",
    "#Use the Caesar Cipher code to create cipher text and input here\n",
    "#The plaintext is \"MynameisBalazsHolczerIamfromBudapestHungaryIamqualifiedasaphysicistAtthemomentIamworkingasasimulationengineeratamultinationalcompanyIhavebeeninterestedinalgorithmsanddatastructuresanditsimplementationsespeciallyinJavasinceuniversityLateronIgotacquaintedwithmachinelearningtechniquesartificialintelligencenumericalmethodsandrecipessuchassolvingdifferentialequationslinear algebrainterpolationandextrapolationThesethingsmayprovetobeveryveryimportantinseveralfieldssoftwareengineeringresearchanddevelopmentorinvestmentbankingIhaveaspecialaddictiontoquantitativemodelssuchastheBlackScholesmodelortheMertonmodel\"\n",
    "#The key was 4. We need to remove space in plaintext. \n",
    "if __name__=='__main__':  \n",
    "    #key = 4\n",
    "    cipher_text= 'QcreqimwFepedwLspgdivMeqjvsqFyhetiwxLyrkevcMequyepmjmihewetlcwmgmwxExxliqsqirxMeqasvomrkewewmqypexmsrirkmriivexeqypxmrexmsrepgsqtercMlezifiirmrxiviwxihmrepksvmxlqwerhhexewxvygxyviwerhmxwmqtpiqirxexmsrwiwtigmeppcmrNezewmrgiyrmzivwmxcPexivsrMksxeguyemrxihamxlqeglmripievrmrkxiglrmuyiwevxmjmgmepmrxippmkirgiryqivmgepqixlshwerhvigmtiwwyglewwspzmrkhmjjivirxmepiuyexmsrwpmrievrepkifvemrxivtspexmsrerhibxvetspexmsrXliwixlmrkwqectvszixsfizivczivcmqtsvxerxmrwizivepjmiphwwsjxaeviirkmriivmrkviwievglerhhizipstqirxsvmrziwxqirxferomrkMleziewtigmepehhmgxmsrxsuyerxmxexmziqshipwwyglewxliFpegoWglspiwqshipsvxliQivxsrqship'\n",
    "    caesar_crack(cipher_text)"
   ]
  }
 ],
 "metadata": {
  "kernelspec": {
   "display_name": "Python 3 (ipykernel)",
   "language": "python",
   "name": "python3"
  },
  "language_info": {
   "codemirror_mode": {
    "name": "ipython",
    "version": 3
   },
   "file_extension": ".py",
   "mimetype": "text/x-python",
   "name": "python",
   "nbconvert_exporter": "python",
   "pygments_lexer": "ipython3",
   "version": "3.10.5"
  }
 },
 "nbformat": 4,
 "nbformat_minor": 5
}
